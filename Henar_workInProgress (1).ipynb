{
  "nbformat": 4,
  "nbformat_minor": 0,
  "metadata": {
    "colab": {
      "name": "Henar_workInProgress.ipynb",
      "provenance": [],
      "collapsed_sections": []
    },
    "kernelspec": {
      "name": "python3",
      "display_name": "Python 3"
    },
    "accelerator": "GPU"
  },
  "cells": [
    {
      "cell_type": "code",
      "metadata": {
        "id": "isnFwwP0a9Mq",
        "colab_type": "code",
        "outputId": "494bb67a-b535-490c-b40c-3ea58558829f",
        "colab": {
          "base_uri": "https://localhost:8080/",
          "height": 34
        }
      },
      "source": [
        "import pandas as pd\n",
        "import numpy as np\n",
        "import matplotlib.pyplot as plt\n",
        "\n",
        "from google.colab import drive\n",
        "drive.mount('/content/drive')"
      ],
      "execution_count": 0,
      "outputs": [
        {
          "output_type": "stream",
          "text": [
            "Drive already mounted at /content/drive; to attempt to forcibly remount, call drive.mount(\"/content/drive\", force_remount=True).\n"
          ],
          "name": "stdout"
        }
      ]
    },
    {
      "cell_type": "code",
      "metadata": {
        "id": "fk9z-sghmHrD",
        "colab_type": "code",
        "outputId": "36443aad-083e-4351-eecb-e9206e76f87a",
        "colab": {
          "base_uri": "https://localhost:8080/",
          "height": 34
        }
      },
      "source": [
        "import json\n",
        "\n",
        "clinical_data_path = '/content/drive/My Drive/DL Reproducibility Project/tmp/original_clinical_dataset.json'\n",
        "\n",
        "with open(clinical_data_path) as f:\n",
        "  clinical_data = json.load(f)\n",
        "\n",
        "cases = []\n",
        "for i in range(len(clinical_data)):\n",
        "  id = clinical_data[i]['demographic']['submitter_id'][0:12]\n",
        "  cases.append(id)\n",
        "\n",
        "print(cases[0:5])\n",
        "\n",
        "biospec_path = '/content/drive/My Drive/DL Reproducibility Project/MultimodalPrognosis/data/processed/pancancer_biospecimen.csv'\n",
        "\n",
        "# load biospecimen data and create project vector\n",
        "import pandas as pd\n",
        "csv_file = pd.read_csv(biospec_path)\n",
        "\n",
        "csv_file['barcode2'] = csv_file['barcode'].str.slice(0, 12, 1) \n",
        "\n",
        "project = []\n",
        "\n",
        "for case in cases:\n",
        "  \n",
        "  a = csv_file[csv_file['barcode2'] == str(case)]['project']\n",
        "  if len(a) > 0:\n",
        "    a = a.iloc[0]\n",
        "    a = a[5:]\n",
        "    project.append(a)\n",
        "  else:\n",
        "    project.append(None)\n"
      ],
      "execution_count": 0,
      "outputs": [
        {
          "output_type": "stream",
          "text": [
            "['TCGA-CJ-4885', 'TCGA-AK-3444', 'TCGA-A3-3319', 'TCGA-J9-A8CM', 'TCGA-HC-7075']\n"
          ],
          "name": "stdout"
        }
      ]
    },
    {
      "cell_type": "code",
      "metadata": {
        "id": "mXVUJVw1h7PE",
        "colab_type": "code",
        "colab": {}
      },
      "source": [
        "# count the number of clinical data cases\n",
        "rango = np.arange(1, (len(clinical_data)))\n",
        "vital_status = {'vital_status': [clinical_data[i][\"demographic\"]['vital_status'] for i in rango]}\n",
        "\n",
        "race = {'race': [clinical_data[i][\"demographic\"]['race'] for i in rango]}\n",
        "gender = {'gender': [clinical_data[i][\"demographic\"]['gender'] for i in rango]}\n",
        "age = {'age': [clinical_data[i][\"demographic\"]['age_at_index'] for i in rango]}\n",
        "#get days to death\n",
        "days_to_death = {'days_to_death': ['null' for i in rango]}\n",
        "#get days to death\n",
        "df_days = pd.DataFrame(days_to_death, columns=['days_to_death'])\n",
        "for i in rango:\n",
        "  if \"days_to_death\" in clinical_data[i-1][\"demographic\"]:\n",
        "    x = [clinical_data[i-1][\"demographic\"][\"days_to_death\"]]\n",
        "    df_days.iloc[i-2, df_days.columns.get_loc('days_to_death')] = x[0]\n",
        "\n",
        "df_vital = pd.DataFrame(vital_status, columns=['vital_status'])\n",
        "df_race = pd.DataFrame(race, columns=['race'])\n",
        "df_gender = pd.DataFrame(gender, columns=['gender'])\n",
        "df_age = pd.DataFrame(age, columns=['age'])\n",
        "result = pd.concat([df_vital, df_race, df_gender,df_age,df_days], axis=1, sort=False)\n",
        "\n",
        "for i in rango:\n",
        "  if (result.iloc[i-1, result.columns.get_loc('vital_status')] == 'Alive'):\n",
        "    result.iloc[i-1, result.columns.get_loc('days_to_death')] = 0;\n"
      ],
      "execution_count": 0,
      "outputs": []
    },
    {
      "cell_type": "code",
      "metadata": {
        "id": "9-mzAVcuyC3C",
        "colab_type": "code",
        "colab": {}
      },
      "source": [
        "# A: survival target data missing\n",
        "r = 0;\n",
        "for i in rango:\n",
        "  if (np.isreal(result.iloc[i-1, result.columns.get_loc('days_to_death')])):\n",
        "    r = r+1\n",
        "r\n",
        "survival_target_data_missing = len(result) - r"
      ],
      "execution_count": 0,
      "outputs": []
    },
    {
      "cell_type": "code",
      "metadata": {
        "id": "YQSfA_IKoNgi",
        "colab_type": "code",
        "colab": {}
      },
      "source": [
        "# B: Clinical data missing\n",
        "gender_not = np.array([])\n",
        "vital_not = np.array([])\n",
        "race_not = np.array([])\n",
        "age_not = np.array([])\n",
        "for i in rango:\n",
        "  if result.iloc[i-1, result.columns.get_loc('vital_status')] != 'Alive':\n",
        "    if result.iloc[i-1, result.columns.get_loc('vital_status')] != 'Dead':\n",
        "      vital_not = np.append(vital_not, i)\n",
        "\n",
        "for i in rango:\n",
        "  if result.iloc[i-1, result.columns.get_loc('race')] == 'not reported':\n",
        "      race_not = np.append(race_not, i)\n",
        "\n",
        "for i in rango:\n",
        "  if result.iloc[i-1, result.columns.get_loc('gender')] == 'not reported':\n",
        "      gender_not = np.append(gender_not, i)\n",
        "\n",
        "for i in rango:\n",
        "  if result.iloc[i-1, result.columns.get_loc('age')] == 'not reported':\n",
        "    age_not = np.append(age_not, i)\n",
        "\n",
        "combined = np.array([])\n",
        "combined = np.append(vital_not, race_not)\n",
        "combined = np.append(combined, age_not)\n",
        "combined = np.append(combined, gender_not)\n",
        "combined = np.unique(combined)\n",
        "missing_cases = len(combined)\n"
      ],
      "execution_count": 0,
      "outputs": []
    },
    {
      "cell_type": "code",
      "metadata": {
        "id": "ZkHXAcky2MvU",
        "colab_type": "code",
        "colab": {}
      },
      "source": [
        "#Code for graphs A\n",
        "rango = np.arange(1, (len(clinical_data)))\n",
        "primary_diagnosis = {'primary_diagnosis': [clinical_data[i][\"diagnoses\"][0]['primary_diagnosis'] for i in rango]}\n",
        "vital_status = {'vital_status': [clinical_data[i][\"demographic\"]['vital_status'] for i in rango]}\n",
        "days_to_death = {'days_to_death': [0 for i in rango]}\n",
        "#get days to death\n",
        "df_days = pd.DataFrame(days_to_death, columns=['days_to_death'])\n",
        "for i in rango:\n",
        "  if \"days_to_death\" in clinical_data[i-1][\"demographic\"]:\n",
        "    x = [clinical_data[i-1][\"demographic\"][\"days_to_death\"]]\n",
        "    df_days.iloc[i-2, df_days.columns.get_loc('days_to_death')] = x[0]\n",
        "\n",
        "df_primary = pd.DataFrame(primary_diagnosis, columns=['primary_diagnosis'])\n",
        "df_vital = pd.DataFrame(vital_status, columns=['vital_status'])\n",
        "result = pd.concat([df_primary, df_vital, df_days], axis=1, sort=False)"
      ],
      "execution_count": 0,
      "outputs": []
    },
    {
      "cell_type": "code",
      "metadata": {
        "id": "OmbicWhM9HmS",
        "colab_type": "code",
        "colab": {}
      },
      "source": [
        "project_names_first = ['ACC', 'BRCA', 'CESC', 'DLBC', 'KICH', 'KIRC', 'KIRP', 'OV', 'PCPG', 'PRAD', 'SARC', 'SKCM', 'TGCT', 'THCA', 'THYM', 'UCEC']\n",
        "#removing PCPG\n",
        "project_names_second = ['BLCA', 'CHOL', 'COAD', 'ESCA', 'GBM', 'HNSC', 'LGG', 'LIHC','LUAD', 'LUSC', 'MESO', 'PAAD', 'READ', 'STAD', 'UCS', 'UVM']\n",
        "project_names_third = ['LUAD', 'LUSC', 'MESO', 'PAAD', 'READ', 'STAD', 'UCS', 'UVM']"
      ],
      "execution_count": 0,
      "outputs": []
    },
    {
      "cell_type": "code",
      "metadata": {
        "id": "w_5hx9R-JBn-",
        "colab_type": "code",
        "colab": {}
      },
      "source": [
        "#Code for graphs B\n",
        "\n",
        "day_range = np.arange(1,11000)\n",
        "rango = np.arange(0, (len(project)))\n",
        "#project_names = ['ACC', 'CESC']\n",
        "prob_all_stacked = np.arange(1,11000)\n",
        "#project_names = ['ACC', 'CESC', 'DLBC', 'KICH', 'KIRC', 'KIRP', 'OV', 'PCPG', 'PRAD', 'SARC', 'SKCM', 'TGCT', 'THCA', 'THYM', 'UCEC']\n",
        "for x in project_names_second:\n",
        "  days_to_death_array = np.array([])\n",
        "  index = np.array([])\n",
        "  for i in rango:\n",
        "    if (project[i] == x):\n",
        "      days_to_death = result.iloc[i, result.columns.get_loc('days_to_death')]\n",
        "      days_to_death_array = np.append(days_to_death_array, days_to_death)\n",
        "      number_patients = len(days_to_death_array)\n",
        "      index = np.append(index, i)\n",
        "      probability = np.array([])\n",
        "      for r in day_range:\n",
        "        dead = 0\n",
        "        for j in range(number_patients):\n",
        "          if days_to_death_array[int(j)] <= r:\n",
        "            if days_to_death_array[int(j)]  != 0:\n",
        "              dead = dead +1\n",
        "        probability = np.append(probability, 1 - (dead/number_patients))\n",
        "  print(x)\n",
        "  prob_all_stacked = np.vstack([prob_all_stacked, probability])\n",
        "\n",
        "print(probability)\n",
        "print(prob_all_stacked)\n",
        "  "
      ],
      "execution_count": 0,
      "outputs": []
    },
    {
      "cell_type": "code",
      "metadata": {
        "id": "wokg1v7Gzfz1",
        "colab_type": "code",
        "outputId": "31cd5022-ba4b-41a7-88c1-fe965faabf0c",
        "colab": {
          "base_uri": "https://localhost:8080/",
          "height": 289
        }
      },
      "source": [
        "# WORKING : PRUEBAS CON LA NUEVA K-M SURVIVAL CURVE\n",
        "day_range = np.arange(1,11000)\n",
        "rango = np.arange(0, (len(project)-1))\n",
        "prob_all_stacked = np.arange(1,11000)\n",
        "for x in project_names_first:\n",
        "  days_to_death_array = np.array([])\n",
        "  index = np.array([])\n",
        "  for i in rango:\n",
        "    if (project[i] == x):\n",
        "      days_to_death = result.iloc[i, result.columns.get_loc('days_to_death')]\n",
        "      days_to_death_array = np.append(days_to_death_array, days_to_death)\n",
        "      number_patients = len(days_to_death_array)\n",
        "      index = np.append(index, i)\n",
        "      probability = np.array([])\n",
        "  alive = number_patients;\n",
        "  alive_array = np.zeros(11000)\n",
        "  alive_array[0] = number_patients\n",
        "  for r in day_range:\n",
        "    dead = 0\n",
        "    for j in range(number_patients):\n",
        "      if days_to_death_array[int(j)] == r:\n",
        "        dead = dead +1\n",
        "        alive = alive - 1\n",
        "    alive_array[r] = alive\n",
        "    #print(r)\n",
        "    #print(dead)\n",
        "    #print(alive)\n",
        "    if r == 1:\n",
        "      probability = np.append(probability,(alive_array[0] - dead)/alive_array[0])\n",
        "    else:\n",
        "      p2 = (alive_array[r-1] - dead)/alive_array[r-1]\n",
        "      probability = np.append(probability, probability[r-2]*p2)\n",
        "  print(x)\n",
        "  prob_all_stacked = np.vstack([prob_all_stacked, probability])\n"
      ],
      "execution_count": 0,
      "outputs": [
        {
          "output_type": "stream",
          "text": [
            "ACC\n",
            "BRCA\n",
            "CESC\n",
            "DLBC\n",
            "KICH\n",
            "KIRC\n",
            "KIRP\n",
            "OV\n",
            "PCPG\n",
            "PRAD\n",
            "SARC\n",
            "SKCM\n",
            "TGCT\n",
            "THCA\n",
            "THYM\n",
            "UCEC\n"
          ],
          "name": "stdout"
        }
      ]
    },
    {
      "cell_type": "code",
      "metadata": {
        "id": "W_Vu7whCFgU1",
        "colab_type": "code",
        "outputId": "eefac226-1233-4c43-9230-b3aa1fced40e",
        "colab": {
          "base_uri": "https://localhost:8080/",
          "height": 34
        }
      },
      "source": [
        "if result.iloc[i, result.columns.get_loc('vital_status')] == 'Dead' or result.iloc[i, result.columns.get_loc('vital_status')] == 'Alive' :\n",
        "\n"
      ],
      "execution_count": 0,
      "outputs": [
        {
          "output_type": "execute_result",
          "data": {
            "text/plain": [
              "'Dead'"
            ]
          },
          "metadata": {
            "tags": []
          },
          "execution_count": 121
        }
      ]
    },
    {
      "cell_type": "code",
      "metadata": {
        "id": "MXqq8TuYEHoR",
        "colab_type": "code",
        "colab": {}
      },
      "source": [
        "# LIMPIO FUNCIONANDO MAL PRUEBAS CON LA NUEVA K-M SURVIVAL CURVE\n",
        "project_names_prueba = ['BLCA']\n",
        "day_range = np.arange(1,500)\n",
        "rango = np.arange(0, (len(project)))\n",
        "prob_all_stacked = np.arange(1,500)\n",
        "for x in project_names_second:\n",
        "  days_to_death_array = np.array([])\n",
        "  index = np.array([])\n",
        "  for i in rango:\n",
        "    if (project[i] == x):\n",
        "      days_to_death = result.iloc[i, result.columns.get_loc('days_to_death')]\n",
        "      days_to_death_array = np.append(days_to_death_array, days_to_death)\n",
        "      number_patients = len(days_to_death_array)\n",
        "      index = np.append(index, i)\n",
        "      probability = np.array([])\n",
        "      alive = number_patients;\n",
        "      alive_array = np.arange(0,500)\n",
        "      alive_array[0] = number_patients\n",
        "      for r in day_range:\n",
        "        dead = 0\n",
        "        for j in range(number_patients):\n",
        "          if days_to_death_array[int(j)] == r:\n",
        "            dead = dead +1\n",
        "            alive = alive - 1\n",
        "        alive_array[r] = alive\n",
        "        print(r)\n",
        "        print(dead)\n",
        "        print(alive)\n",
        "        print(alive_array)\n",
        "        if r == 1:\n",
        "          probability = np.append(probability,(number_patients - dead)/alive)\n",
        "        else:\n",
        "          #print(r)\n",
        "          #print(probability[r-2])\n",
        "          p2 = (alive_array[r-1] - dead)/alive_array[r-1] \n",
        "          probability = np.append(probability, probability[r-2]*p2)\n",
        "          #print(probability)\n",
        "      print(x)\n",
        "      prob_all_stacked = np.vstack([prob_all_stacked, probability])\n",
        "\n",
        "print(probability)\n",
        "#print(prob_all_stacked)"
      ],
      "execution_count": 0,
      "outputs": []
    },
    {
      "cell_type": "code",
      "metadata": {
        "id": "G0FKDDGd-R4W",
        "colab_type": "code",
        "outputId": "a2d5a260-970e-4085-8101-174b57c6f29a",
        "colab": {
          "base_uri": "https://localhost:8080/",
          "height": 300
        }
      },
      "source": [
        "# SECOND\n",
        "\n",
        "# gca stands for 'get current axis'\n",
        "ax = plt.gca()\n",
        "\n",
        "#df.plot(kind='line',x='name',y='num_pets', color='red', ax=ax)\n",
        "plt.plot(day_range, np.transpose(prob_all_stacked[1, :]),label=\"BLCA\")\n",
        "plt.plot(day_range, np.transpose(prob_all_stacked[2, :]),label=\"CHOL\")\n",
        "plt.plot(day_range, np.transpose(prob_all_stacked[3, :]),label=\"COAD\")\n",
        "plt.plot(day_range, np.transpose(prob_all_stacked[4, :]),label=\"ESCA\")\n",
        "plt.plot(day_range, np.transpose(prob_all_stacked[5, :]),label=\"GBM\")\n",
        "plt.plot(day_range, np.transpose(prob_all_stacked[6, :]),label=\"HNSC\")\n",
        "plt.plot(day_range, np.transpose(prob_all_stacked[7, :]),label=\"LGG\")\n",
        "plt.plot(day_range, np.transpose(prob_all_stacked[8, :]),label=\"LIHC\")\n",
        "\n",
        "plt.plot(day_range, np.transpose(prob_all_stacked[9, :]),label=\"LUAD\")\n",
        "plt.plot(day_range, np.transpose(prob_all_stacked[10, :]),label=\"LUSC\")\n",
        "plt.plot(day_range, np.transpose(prob_all_stacked[11, :]),label=\"MESO\")\n",
        "plt.plot(day_range, np.transpose(prob_all_stacked[12, :]),label=\"PAAD\")\n",
        "plt.plot(day_range, np.transpose(prob_all_stacked[13, :]),label=\"READ\")\n",
        "plt.plot(day_range, np.transpose(prob_all_stacked[14, :]),label=\"STAD\")\n",
        "plt.plot(day_range, np.transpose(prob_all_stacked[15, :]),label=\"UCS\")\n",
        "plt.plot(day_range, np.transpose(prob_all_stacked[16, :]),label=\"UVM\")\n",
        "\n",
        "plt.legend(bbox_to_anchor=(1.05, 1), loc='upper left', borderaxespad=0.)\n",
        "plt.xlabel('Time (days)')\n",
        "plt.ylabel('Survival Probability')\n",
        "\n",
        "ax.set(xlim=(1, 8000), ylim=(0, 1))\n",
        "#plt.show()"
      ],
      "execution_count": 0,
      "outputs": [
        {
          "output_type": "execute_result",
          "data": {
            "text/plain": [
              "[(0.0, 1.0), (1.0, 8000.0)]"
            ]
          },
          "metadata": {
            "tags": []
          },
          "execution_count": 128
        },
        {
          "output_type": "display_data",
          "data": {
            "image/png": "[encoded data removed]",
            "text/plain": [
              "<Figure size 432x288 with 1 Axes>"
            ]
          },
          "metadata": {
            "tags": [],
            "needs_background": "light"
          }
        }
      ]
    },
    {
      "cell_type": "markdown",
      "metadata": {
        "id": "txoQv5ZvDIJT",
        "colab_type": "text"
      },
      "source": [
        ""
      ]
    },
    {
      "cell_type": "code",
      "metadata": {
        "id": "M6O5T9n9Jf9j",
        "colab_type": "code",
        "outputId": "3e598247-4da4-4901-8674-7940af5ec086",
        "colab": {
          "base_uri": "https://localhost:8080/",
          "height": 300
        }
      },
      "source": [
        "# FIRST\n",
        "\n",
        "# gca stands for 'get current axis'\n",
        "ax = plt.gca()\n",
        "\n",
        "#df.plot(kind='line',x='name',y='num_pets', color='red', ax=ax)\n",
        "plt.plot(day_range, np.transpose(prob_all_stacked[1, :]),label=\"ACC\")\n",
        "plt.plot(day_range, np.transpose(prob_all_stacked[2, :]),label=\"BRCA\")\n",
        "plt.plot(day_range, np.transpose(prob_all_stacked[3, :]),label=\"CESC\")\n",
        "plt.plot(day_range, np.transpose(prob_all_stacked[4, :]),label=\"DLBC\")\n",
        "plt.plot(day_range, np.transpose(prob_all_stacked[5, :]),label=\"KICH\")\n",
        "plt.plot(day_range, np.transpose(prob_all_stacked[6, :]),label=\"KIRC\")\n",
        "plt.plot(day_range, np.transpose(prob_all_stacked[7, :]),label=\"KIRP\")\n",
        "plt.plot(day_range, np.transpose(prob_all_stacked[8, :]),label=\"OV\")\n",
        "plt.plot(day_range, np.transpose(prob_all_stacked[9, :]),label=\"PCPG\")\n",
        "plt.plot(day_range, np.transpose(prob_all_stacked[10, :]),label=\"PRAD\")\n",
        "plt.plot(day_range, np.transpose(prob_all_stacked[11, :]),label=\"SARC\")\n",
        "plt.plot(day_range, np.transpose(prob_all_stacked[12, :]),label=\"SKCM\")\n",
        "plt.plot(day_range, np.transpose(prob_all_stacked[13, :]),label=\"TGCT\")\n",
        "plt.plot(day_range, np.transpose(prob_all_stacked[14, :]),label=\"THCA\")\n",
        "plt.plot(day_range, np.transpose(prob_all_stacked[15, :]),label=\"THYM\")\n",
        "plt.plot(day_range, np.transpose(prob_all_stacked[16, :]),label=\"UCEC\")\n",
        "\n",
        "plt.legend(bbox_to_anchor=(1.05, 1), loc='upper left', borderaxespad=0.)\n",
        "\n",
        "plt.xlabel('Time (days)')\n",
        "plt.ylabel('Survival Probability')\n",
        "\n",
        "#plt.plot(day_range, probability_papi)\n",
        "ax.set(xlim=(0, 12000), ylim=(0, 1))\n",
        "#plt.show()"
      ],
      "execution_count": 0,
      "outputs": [
        {
          "output_type": "execute_result",
          "data": {
            "text/plain": [
              "[(0.0, 1.0), (0.0, 12000.0)]"
            ]
          },
          "metadata": {
            "tags": []
          },
          "execution_count": 130
        },
        {
          "output_type": "display_data",
          "data": {
            "image/png": "[encoded data removed]",
            "text/plain": [
              "<Figure size 432x288 with 1 Axes>"
            ]
          },
          "metadata": {
            "tags": [],
            "needs_background": "light"
          }
        }
      ]
    },
    {
      "cell_type": "code",
      "metadata": {
        "id": "5Zp65BDtbH40",
        "colab_type": "code",
        "colab": {}
      },
      "source": [
        ""
      ],
      "execution_count": 0,
      "outputs": []
    },
    {
      "cell_type": "code",
      "metadata": {
        "id": "nGJmqgQUa_BQ",
        "colab_type": "code",
        "colab": {}
      },
      "source": [
        ""
      ],
      "execution_count": 0,
      "outputs": []
    }
  ]
}